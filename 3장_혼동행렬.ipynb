{
 "cells": [
  {
   "cell_type": "code",
   "execution_count": 17,
   "id": "6488496b-4f09-4501-8f0a-739e42a2cb9c",
   "metadata": {},
   "outputs": [],
   "source": [
    "import pandas as pd\n",
    "from sklearn.model_selection import train_test_split\n",
    "from sklearn.metrics import accuracy_score\n",
    "import numpy as np\n",
    "from sklearn.datasets import load_digits\n",
    "from sklearn.base import BaseEstimator"
   ]
  },
  {
   "cell_type": "code",
   "execution_count": 18,
   "id": "c16a9079-778d-41d1-a253-dfd8542926db",
   "metadata": {},
   "outputs": [],
   "source": [
    "digits = load_digits()"
   ]
  },
  {
   "cell_type": "code",
   "execution_count": 19,
   "id": "64261e60-1e58-4975-9a91-1b55c58f5328",
   "metadata": {},
   "outputs": [
    {
     "data": {
      "text/plain": [
       "array([[ 0.,  0.,  5., 13.,  9.,  1.,  0.,  0.],\n",
       "       [ 0.,  0., 13., 15., 10., 15.,  5.,  0.],\n",
       "       [ 0.,  3., 15.,  2.,  0., 11.,  8.,  0.],\n",
       "       [ 0.,  4., 12.,  0.,  0.,  8.,  8.,  0.],\n",
       "       [ 0.,  5.,  8.,  0.,  0.,  9.,  8.,  0.],\n",
       "       [ 0.,  4., 11.,  0.,  1., 12.,  7.,  0.],\n",
       "       [ 0.,  2., 14.,  5., 10., 12.,  0.,  0.],\n",
       "       [ 0.,  0.,  6., 13., 10.,  0.,  0.,  0.]])"
      ]
     },
     "execution_count": 19,
     "metadata": {},
     "output_type": "execute_result"
    }
   ],
   "source": [
    "digits.data[0].reshape(8,8)"
   ]
  },
  {
   "cell_type": "code",
   "execution_count": 20,
   "id": "8241bfb6-952f-40a2-9ce7-8ad69068c1df",
   "metadata": {},
   "outputs": [],
   "source": [
    "class MyFakeClassifier(BaseEstimator):\n",
    "    def fit(self, X, y):\n",
    "        pass\n",
    "    def predict(self, X):\n",
    "        return np.zeros((len(X),1), dtype=bool)"
   ]
  },
  {
   "cell_type": "code",
   "execution_count": 21,
   "id": "3af16c96-8df5-44ec-90f1-e50b0b3a3f1d",
   "metadata": {},
   "outputs": [],
   "source": [
    "digits = load_digits()"
   ]
  },
  {
   "cell_type": "code",
   "execution_count": 22,
   "id": "1a2c73f3-60d5-4e50-bde4-6db56b463631",
   "metadata": {},
   "outputs": [],
   "source": [
    "y = (digits.target ==7).astype(int)\n",
    "X_train,X_test,y_train,y_test = train_test_split(digits.data,\n",
    "                                                 y,\n",
    "                                                 random_state = 11)"
   ]
  },
  {
   "cell_type": "code",
   "execution_count": 23,
   "id": "fa5c70d9-c4a3-425b-9645-ca298e9cc50a",
   "metadata": {},
   "outputs": [
    {
     "name": "stdout",
     "output_type": "stream",
     "text": [
      "레이블 테스트 세트 크기 : (450,)\n",
      "테스트 세트 레이블 0과 1의 분포도\n",
      "0    405\n",
      "1     45\n",
      "dtype: int64\n",
      "모든 예측을 0으로 하여도 정확도는:0.900\n"
     ]
    }
   ],
   "source": [
    "# 불균형한 레이블 데이터 분포도 확인\n",
    "print('레이블 테스트 세트 크기 :', y_test.shape)\n",
    "print('테스트 세트 레이블 0과 1의 분포도')\n",
    "print(pd.Series(y_test).value_counts())\n",
    "\n",
    "# Dummy Classifier로 학습/예측/정확도 평가\n",
    "fakeclf = MyFakeClassifier()\n",
    "fakeclf.fit(X_train, y_train)\n",
    "fakepred = fakeclf.predict(X_test)\n",
    "print('모든 예측을 0으로 하여도 정확도는:{:.3f}'.format(accuracy_score(y_test, fakepred)))"
   ]
  },
  {
   "cell_type": "code",
   "execution_count": 24,
   "id": "2741b6ce-9583-498f-b25a-7c760a629d46",
   "metadata": {},
   "outputs": [
    {
     "data": {
      "text/plain": [
       "array([[405,   0],\n",
       "       [ 45,   0]], dtype=int64)"
      ]
     },
     "execution_count": 24,
     "metadata": {},
     "output_type": "execute_result"
    }
   ],
   "source": [
    "from sklearn.metrics import confusion_matrix\n",
    "\n",
    "confusion_matrix(y_test, fakepred)"
   ]
  },
  {
   "cell_type": "code",
   "execution_count": 29,
   "id": "c3193036-2d8f-4504-9a22-90b9ec0833ee",
   "metadata": {},
   "outputs": [],
   "source": [
    "def get_clf_eval(y_test,pred):\n",
    "    from sklearn.metrics import accuracy_score,\\\n",
    "                                confusion_matrix,\\\n",
    "                                precision_score,\\\n",
    "                                recall_score\n",
    "    confusion = confusion_matrix(y_test, pred)\n",
    "    accuracy = accuracy_score(y_test, pred)\n",
    "    precision = precision_score(y_test, pred)\n",
    "    recall = recall_score(y_test, pred)\n",
    "    print('오차행렬')\n",
    "    print(confusion)\n",
    "    print(f'정확도:{accuracy:.4f}, 정밀도:{precision:.4f}, 재현율:{recall:.4f}')\n",
    "    \n",
    "def fillna(df):\n",
    "    df['Age'].fillna(df['Age'].mean(),inplace = True)\n",
    "    df['Cabin'].fillna('N', inplace=True)\n",
    "    df['Embarked'].fillna('N', inplace=True)\n",
    "    df['Fare'].fillna(0, inplace = True)\n",
    "    return df\n",
    "\n",
    "def drop_features(df):\n",
    "    df.drop(columns = ['PassengerId', 'Name', 'Ticket'], inplace=True)\n",
    "    return df\n",
    "\n",
    "def format_features(df):\n",
    "    from sklearn.preprocessing import LabelEncoder     # 필요한 import를 함수에 넣어주는 것도 좋다.\n",
    "    df['Cabin'] = df['Cabin'].str[0]\n",
    "    features = ['Cabin', 'Sex', 'Embarked']\n",
    "    for feature in features:\n",
    "        le = LabelEncoder()\n",
    "        df[feature] = le.fit_transform(df[feature])\n",
    "    return df\n",
    "\n",
    "def transform_features(df):         # 만들어진 함수를 차례대로 실행하는 함수.\n",
    "    df = fillna(df)\n",
    "    df = drop_features(df)\n",
    "    df = format_features(df)\n",
    "    return df"
   ]
  },
  {
   "cell_type": "code",
   "execution_count": 30,
   "id": "ffe8ab10-8278-4ad8-803e-c9ca8292ec8b",
   "metadata": {},
   "outputs": [],
   "source": [
    "import pandas as pd\n",
    "from sklearn.model_selection import train_test_split\n",
    "titanic_df = pd.read_csv('./titanic_train.csv')\n",
    "y_titanic_df = titanic_df['Survived']\n",
    "X_titanic_df = titanic_df.drop(columns=['Survived'])\n",
    "X_titanic_df = transform_features(X_titanic_df)\n",
    "X_train,X_test,y_train,y_test = train_test_split(X_titanic_df,\n",
    "                                                 y_titanic_df,\n",
    "                                                 test_size = 0.2,\n",
    "                                                 random_state = 11)"
   ]
  },
  {
   "cell_type": "code",
   "execution_count": 31,
   "id": "deeceeaa-f84c-4afa-87aa-bb10bedbca37",
   "metadata": {},
   "outputs": [],
   "source": [
    "from sklearn.linear_model import LogisticRegression"
   ]
  },
  {
   "cell_type": "code",
   "execution_count": 33,
   "id": "78bddbbc-2f5e-4940-a457-93a7d809df04",
   "metadata": {},
   "outputs": [
    {
     "name": "stdout",
     "output_type": "stream",
     "text": [
      "오차행렬\n",
      "[[108  10]\n",
      " [ 14  47]]\n",
      "정확도:0.8659, 정밀도:0.8246, 재현율:0.7705\n"
     ]
    }
   ],
   "source": [
    "lr_clf = LogisticRegression(solver='liblinear')\n",
    "lr_clf.fit(X_train,y_train)\n",
    "pred = lr_clf.predict(X_test)\n",
    "get_clf_eval(y_test, pred)"
   ]
  },
  {
   "cell_type": "code",
   "execution_count": 34,
   "id": "9a8755b4-997d-4e9a-9b98-546de86ca54a",
   "metadata": {
    "tags": []
   },
   "outputs": [
    {
     "data": {
      "text/plain": [
       "array([1, 0, 0, 0, 0, 0, 0, 1, 0, 1, 0, 0, 0, 0, 0, 0, 0, 0, 0, 1, 0, 0,\n",
       "       0, 0, 0, 0, 0, 0, 0, 0, 1, 1, 0, 1, 0, 0, 0, 1, 0, 0, 0, 0, 1, 1,\n",
       "       1, 1, 1, 0, 1, 0, 0, 0, 0, 1, 0, 0, 0, 0, 0, 0, 0, 0, 0, 0, 0, 0,\n",
       "       1, 1, 1, 0, 0, 0, 0, 1, 0, 0, 0, 0, 1, 0, 1, 1, 1, 0, 1, 1, 0, 0,\n",
       "       1, 0, 0, 0, 0, 0, 1, 0, 1, 0, 0, 1, 1, 0, 1, 0, 1, 0, 0, 0, 0, 0,\n",
       "       0, 0, 0, 1, 0, 0, 0, 0, 1, 0, 0, 0, 0, 0, 0, 0, 0, 0, 1, 0, 1, 0,\n",
       "       1, 1, 1, 0, 1, 0, 0, 1, 1, 0, 0, 0, 0, 1, 0, 0, 1, 0, 0, 1, 1, 0,\n",
       "       1, 1, 0, 0, 1, 1, 0, 1, 0, 1, 0, 1, 1, 0, 0, 1, 0, 1, 0, 0, 0, 0,\n",
       "       0, 0, 1], dtype=int64)"
      ]
     },
     "execution_count": 34,
     "metadata": {},
     "output_type": "execute_result"
    }
   ],
   "source": [
    "pred"
   ]
  },
  {
   "cell_type": "code",
   "execution_count": 35,
   "id": "16676c6b-15e5-4615-aa2d-9a636ebcee5e",
   "metadata": {
    "collapsed": true,
    "jupyter": {
     "outputs_hidden": true
    },
    "tags": []
   },
   "outputs": [
    {
     "data": {
      "text/plain": [
       "array([[0.44935225, 0.55064775],\n",
       "       [0.86335511, 0.13664489],\n",
       "       [0.86429643, 0.13570357],\n",
       "       [0.84968519, 0.15031481],\n",
       "       [0.8234341 , 0.1765659 ],\n",
       "       [0.84231224, 0.15768776],\n",
       "       [0.87095489, 0.12904511],\n",
       "       [0.27228603, 0.72771397],\n",
       "       [0.78185128, 0.21814872],\n",
       "       [0.33185998, 0.66814002],\n",
       "       [0.86178763, 0.13821237],\n",
       "       [0.87058098, 0.12941902],\n",
       "       [0.86425951, 0.13574049],\n",
       "       [0.87065944, 0.12934056],\n",
       "       [0.56033544, 0.43966456],\n",
       "       [0.85003023, 0.14996977],\n",
       "       [0.88954172, 0.11045828],\n",
       "       [0.74250732, 0.25749268],\n",
       "       [0.71120224, 0.28879776],\n",
       "       [0.23776278, 0.76223722],\n",
       "       [0.75684107, 0.24315893],\n",
       "       [0.62428169, 0.37571831],\n",
       "       [0.84655246, 0.15344754],\n",
       "       [0.82711256, 0.17288744],\n",
       "       [0.86825629, 0.13174371],\n",
       "       [0.77003828, 0.22996172],\n",
       "       [0.82946349, 0.17053651],\n",
       "       [0.90336131, 0.09663869],\n",
       "       [0.73372049, 0.26627951],\n",
       "       [0.68847387, 0.31152613],\n",
       "       [0.07646869, 0.92353131],\n",
       "       [0.2253212 , 0.7746788 ],\n",
       "       [0.87161939, 0.12838061],\n",
       "       [0.24075418, 0.75924582],\n",
       "       [0.62711731, 0.37288269],\n",
       "       [0.77003828, 0.22996172],\n",
       "       [0.90554276, 0.09445724],\n",
       "       [0.40602574, 0.59397426],\n",
       "       [0.93043585, 0.06956415],\n",
       "       [0.8765052 , 0.1234948 ],\n",
       "       [0.69797422, 0.30202578],\n",
       "       [0.89664595, 0.10335405],\n",
       "       [0.21993379, 0.78006621],\n",
       "       [0.31565713, 0.68434287],\n",
       "       [0.37942228, 0.62057772],\n",
       "       [0.37932891, 0.62067109],\n",
       "       [0.07161281, 0.92838719],\n",
       "       [0.55777585, 0.44222415],\n",
       "       [0.07914487, 0.92085513],\n",
       "       [0.86803082, 0.13196918],\n",
       "       [0.50790058, 0.49209942],\n",
       "       [0.87065944, 0.12934056],\n",
       "       [0.85576405, 0.14423595],\n",
       "       [0.34870129, 0.65129871],\n",
       "       [0.71558417, 0.28441583],\n",
       "       [0.78853205, 0.21146795],\n",
       "       [0.7461921 , 0.2538079 ],\n",
       "       [0.86429   , 0.13571   ],\n",
       "       [0.84079003, 0.15920997],\n",
       "       [0.59838066, 0.40161934],\n",
       "       [0.73532081, 0.26467919],\n",
       "       [0.88705596, 0.11294404],\n",
       "       [0.545528  , 0.454472  ],\n",
       "       [0.55326343, 0.44673657],\n",
       "       [0.62583523, 0.37416477],\n",
       "       [0.88363278, 0.11636722],\n",
       "       [0.35181256, 0.64818744],\n",
       "       [0.39903352, 0.60096648],\n",
       "       [0.08300814, 0.91699186],\n",
       "       [0.85072522, 0.14927478],\n",
       "       [0.86778819, 0.13221181],\n",
       "       [0.83070924, 0.16929076],\n",
       "       [0.87649042, 0.12350958],\n",
       "       [0.05959915, 0.94040085],\n",
       "       [0.78735759, 0.21264241],\n",
       "       [0.87065944, 0.12934056],\n",
       "       [0.716541  , 0.283459  ],\n",
       "       [0.79159804, 0.20840196],\n",
       "       [0.20303098, 0.79696902],\n",
       "       [0.86429   , 0.13571   ],\n",
       "       [0.2400505 , 0.7599495 ],\n",
       "       [0.37123586, 0.62876414],\n",
       "       [0.08369626, 0.91630374],\n",
       "       [0.84018612, 0.15981388],\n",
       "       [0.07766719, 0.92233281],\n",
       "       [0.08973248, 0.91026752],\n",
       "       [0.84723076, 0.15276924],\n",
       "       [0.8624153 , 0.1375847 ],\n",
       "       [0.16539733, 0.83460267],\n",
       "       [0.87065944, 0.12934056],\n",
       "       [0.87065944, 0.12934056],\n",
       "       [0.77003828, 0.22996172],\n",
       "       [0.75416744, 0.24583256],\n",
       "       [0.87065944, 0.12934056],\n",
       "       [0.37932891, 0.62067109],\n",
       "       [0.89883889, 0.10116111],\n",
       "       [0.07361403, 0.92638597],\n",
       "       [0.87897226, 0.12102774],\n",
       "       [0.60197825, 0.39802175],\n",
       "       [0.06738996, 0.93261004],\n",
       "       [0.47948281, 0.52051719],\n",
       "       [0.9046927 , 0.0953073 ],\n",
       "       [0.05673721, 0.94326279],\n",
       "       [0.88180787, 0.11819213],\n",
       "       [0.45587968, 0.54412032],\n",
       "       [0.86133437, 0.13866563],\n",
       "       [0.8497493 , 0.1502507 ],\n",
       "       [0.85072697, 0.14927303],\n",
       "       [0.55502751, 0.44497249],\n",
       "       [0.88426898, 0.11573102],\n",
       "       [0.84747418, 0.15252582],\n",
       "       [0.87269563, 0.12730437],\n",
       "       [0.67538692, 0.32461308],\n",
       "       [0.48275248, 0.51724752],\n",
       "       [0.86825629, 0.13174371],\n",
       "       [0.9159719 , 0.0840281 ],\n",
       "       [0.84194204, 0.15805796],\n",
       "       [0.78872838, 0.21127162],\n",
       "       [0.11141753, 0.88858247],\n",
       "       [0.90534855, 0.09465145],\n",
       "       [0.87071643, 0.12928357],\n",
       "       [0.86905438, 0.13094562],\n",
       "       [0.91525793, 0.08474207],\n",
       "       [0.58196826, 0.41803174],\n",
       "       [0.98025012, 0.01974988],\n",
       "       [0.87071643, 0.12928357],\n",
       "       [0.87219019, 0.12780981],\n",
       "       [0.7119464 , 0.2880536 ],\n",
       "       [0.34348898, 0.65651102],\n",
       "       [0.70226693, 0.29773307],\n",
       "       [0.06738996, 0.93261004],\n",
       "       [0.59805546, 0.40194454],\n",
       "       [0.3288534 , 0.6711466 ],\n",
       "       [0.48644763, 0.51355237],\n",
       "       [0.42864814, 0.57135186],\n",
       "       [0.5634657 , 0.4365343 ],\n",
       "       [0.25853147, 0.74146853],\n",
       "       [0.77643225, 0.22356775],\n",
       "       [0.87632447, 0.12367553],\n",
       "       [0.15009277, 0.84990723],\n",
       "       [0.13434695, 0.86565305],\n",
       "       [0.85072697, 0.14927303],\n",
       "       [0.86772102, 0.13227898],\n",
       "       [0.89628756, 0.10371244],\n",
       "       [0.88613339, 0.11386661],\n",
       "       [0.34797638, 0.65202362],\n",
       "       [0.89917048, 0.10082952],\n",
       "       [0.72997342, 0.27002658],\n",
       "       [0.12221446, 0.87778554],\n",
       "       [0.8171969 , 0.1828031 ],\n",
       "       [0.61865112, 0.38134888],\n",
       "       [0.37370304, 0.62629696],\n",
       "       [0.38348341, 0.61651659],\n",
       "       [0.86463298, 0.13536702],\n",
       "       [0.25161298, 0.74838702],\n",
       "       [0.10388331, 0.89611669],\n",
       "       [0.57648057, 0.42351943],\n",
       "       [0.85476849, 0.14523151],\n",
       "       [0.31415125, 0.68584875],\n",
       "       [0.33907972, 0.66092028],\n",
       "       [0.84347719, 0.15652281],\n",
       "       [0.23261133, 0.76738867],\n",
       "       [0.88859273, 0.11140727],\n",
       "       [0.35220567, 0.64779433],\n",
       "       [0.58554858, 0.41445142],\n",
       "       [0.36143288, 0.63856712],\n",
       "       [0.1363406 , 0.8636594 ],\n",
       "       [0.67797005, 0.32202995],\n",
       "       [0.88600083, 0.11399917],\n",
       "       [0.13946115, 0.86053885],\n",
       "       [0.87095489, 0.12904511],\n",
       "       [0.20616022, 0.79383978],\n",
       "       [0.76719902, 0.23280098],\n",
       "       [0.77437244, 0.22562756],\n",
       "       [0.50324046, 0.49675954],\n",
       "       [0.91079838, 0.08920162],\n",
       "       [0.84970738, 0.15029262],\n",
       "       [0.54874087, 0.45125913],\n",
       "       [0.48192063, 0.51807937]])"
      ]
     },
     "execution_count": 35,
     "metadata": {},
     "output_type": "execute_result"
    }
   ],
   "source": [
    "lr_clf.predict_proba(X_test)"
   ]
  },
  {
   "cell_type": "code",
   "execution_count": 36,
   "id": "9d1341ab-d1c4-4b98-9845-af42aec9bd79",
   "metadata": {},
   "outputs": [],
   "source": [
    "from sklearn.preprocessing import Binarizer"
   ]
  },
  {
   "cell_type": "code",
   "execution_count": 39,
   "id": "b8955c57-29c5-41e1-bd73-c611d313fca1",
   "metadata": {},
   "outputs": [],
   "source": [
    "X = [[1, -1, 2],\n",
    "     [2, 0, 0],\n",
    "     [0, 1.1, 1.2]]"
   ]
  },
  {
   "cell_type": "code",
   "execution_count": 41,
   "id": "e68df219-50b8-47e8-9275-3e00dfeee2a6",
   "metadata": {},
   "outputs": [
    {
     "data": {
      "text/plain": [
       "array([[0., 0., 1.],\n",
       "       [1., 0., 0.],\n",
       "       [0., 0., 1.]])"
      ]
     },
     "execution_count": 41,
     "metadata": {},
     "output_type": "execute_result"
    }
   ],
   "source": [
    "binarizer = Binarizer(threshold=1.1)\n",
    "binarizer.fit_transform(X)\n",
    "# array([[1., 0., 1.],     0.0일 때,\n",
    "#        [1., 0., 0.],\n",
    "#        [0., 1., 1.]])"
   ]
  },
  {
   "cell_type": "code",
   "execution_count": 50,
   "id": "662c4578-ff8e-4781-acd4-4aec1ec8b3b6",
   "metadata": {},
   "outputs": [
    {
     "name": "stdout",
     "output_type": "stream",
     "text": [
      "오차행렬\n",
      "[[97 21]\n",
      " [11 50]]\n",
      "정확도:0.8212, 정밀도:0.7042, 재현율:0.8197\n"
     ]
    }
   ],
   "source": [
    "custom_threshold=0.4         # 임계치. (낮추면, 재현율을 올릴 수 있고, 높이면 정밀도를 높일 수 있다.)\n",
    "pred_proba_1 = lr_clf.predict_proba(X_test)[:,1].reshape(-1,1)\n",
    "#pred_proba_1\n",
    "binarizer = Binarizer(threshold=custom_threshold)\n",
    "custom_predict = binarizer.fit_transform(pred_proba_1)\n",
    "get_clf_eval(y_test,custom_predict)\n",
    "# 오차행렬\n",
    "# [[108  10]\n",
    "#  [ 14  47]]\n",
    "# 정확도:0.8659, 정밀도:0.8246, 재현율:0.7705"
   ]
  },
  {
   "cell_type": "code",
   "execution_count": 52,
   "id": "aebf0a4c-60ac-49d4-a4b3-740789e082b6",
   "metadata": {},
   "outputs": [],
   "source": [
    "thresholds = [0.4, 0.45, 0.50, 0.55, 0.60]\n",
    "\n",
    "def get_eval_by_threshold(y_test, pred_proba_1, thresholds):\n",
    "    for custom_threshold in thresholds:\n",
    "        binarizer = Binarizer(threshold=custom_threshold)\n",
    "        custom_predict = binarizer.fit_transform(pred_proba_1)\n",
    "        print('임계값', custom_threshold)\n",
    "        get_clf_eval(y_test,custom_predict)"
   ]
  },
  {
   "cell_type": "code",
   "execution_count": 53,
   "id": "7a315465-2273-4507-a56a-191f50a79df6",
   "metadata": {},
   "outputs": [
    {
     "name": "stdout",
     "output_type": "stream",
     "text": [
      "임계값 0.4\n",
      "오차행렬\n",
      "[[97 21]\n",
      " [11 50]]\n",
      "정확도:0.8212, 정밀도:0.7042, 재현율:0.8197\n",
      "임계값 0.45\n",
      "오차행렬\n",
      "[[105  13]\n",
      " [ 13  48]]\n",
      "정확도:0.8547, 정밀도:0.7869, 재현율:0.7869\n",
      "임계값 0.5\n",
      "오차행렬\n",
      "[[108  10]\n",
      " [ 14  47]]\n",
      "정확도:0.8659, 정밀도:0.8246, 재현율:0.7705\n",
      "임계값 0.55\n",
      "오차행렬\n",
      "[[111   7]\n",
      " [ 16  45]]\n",
      "정확도:0.8715, 정밀도:0.8654, 재현율:0.7377\n",
      "임계값 0.6\n",
      "오차행렬\n",
      "[[113   5]\n",
      " [ 17  44]]\n",
      "정확도:0.8771, 정밀도:0.8980, 재현율:0.7213\n"
     ]
    }
   ],
   "source": [
    "get_eval_by_threshold(y_test, pred_proba_1, thresholds)"
   ]
  },
  {
   "cell_type": "code",
   "execution_count": 55,
   "id": "13ffc6b5-43a0-4920-91c2-37ef2403bb7c",
   "metadata": {},
   "outputs": [
    {
     "name": "stdout",
     "output_type": "stream",
     "text": [
      "반환된 분류 결정 임곗값 배열의 Shape: (147,)\n",
      "샘플 추출을 위한 임계값 배열의 index 10개: [  0  15  30  45  60  75  90 105 120 135]\n",
      "샘플용 10개의 임곗값: [0.12 0.13 0.15 0.17 0.26 0.38 0.49 0.63 0.76 0.9 ]\n",
      "샘플 임계값별 정밀도: [0.379 0.424 0.455 0.519 0.618 0.676 0.797 0.93  0.964 1.   ]\n",
      "샘플 임계값별 재현율: [1.    0.967 0.902 0.902 0.902 0.82  0.77  0.656 0.443 0.213]\n"
     ]
    }
   ],
   "source": [
    "from sklearn.metrics import precision_recall_curve\n",
    "\n",
    "pred_proba_class1 = lr_clf.predict_proba(X_test)[:,1]\n",
    "\n",
    "precisions, recalls, thresholds = precision_recall_curve(y_test, pred_proba_class1)\n",
    "print('반환된 분류 결정 임곗값 배열의 Shape:', thresholds.shape)\n",
    "\n",
    "thr_index = np.arange(0, thresholds.shape[0],15)\n",
    "print('샘플 추출을 위한 임계값 배열의 index 10개:', thr_index)\n",
    "print('샘플용 10개의 임곗값:', np.round(thresholds[thr_index],2))\n",
    "\n",
    "print('샘플 임계값별 정밀도:', np.round(precisions[thr_index],3))\n",
    "print('샘플 임계값별 재현율:', np.round(recalls[thr_index],3))"
   ]
  },
  {
   "cell_type": "code",
   "execution_count": 57,
   "id": "c1f4616f-803a-4107-a8e7-9ed4491c8884",
   "metadata": {},
   "outputs": [
    {
     "data": {
      "image/png": "[encoded data removed]",
      "text/plain": [
       "<Figure size 432x288 with 1 Axes>"
      ]
     },
     "metadata": {
      "needs_background": "light"
     },
     "output_type": "display_data"
    }
   ],
   "source": [
    "import matplotlib.pyplot as plt\n",
    "import matplotlib.ticker as ticker\n",
    "%matplotlib inline\n",
    "\n",
    "def precision_recall_curve_plot(y_test, pred_proba_1):\n",
    "    precisions, recalls,  thresholds = precision_recall_curve(y_test, pred_proba_1)\n",
    "    \n",
    "    threshold_boundary = thresholds.shape[0]\n",
    "    plt.plot(thresholds, precisions[0:threshold_boundary], linestyle='-', label='precision')\n",
    "    plt.plot(thresholds, recalls[0:threshold_boundary], label='recall')\n",
    "    \n",
    "    start, end = plt.xlim()\n",
    "    plt.xticks(np.round(np.arange(start, end, 0.1),2))\n",
    "    \n",
    "    plt.xlabel('Threshold value'); plt.ylabel('Precision and Recall value')\n",
    "    plt.legend(); plt.grid()\n",
    "    plt.show()\n",
    "    \n",
    "precision_recall_curve_plot(y_test, lr_clf.predict_proba(X_test)[:,1])  # 0.45지점에서 재현율과 정밀도가 비슷해진다."
   ]
  },
  {
   "cell_type": "code",
   "execution_count": null,
   "id": "5d88ac5d-c4d8-4731-8084-8300643d4e14",
   "metadata": {},
   "outputs": [],
   "source": []
  },
  {
   "cell_type": "code",
   "execution_count": null,
   "id": "0cfb25f0-eb29-4b8c-83e6-4797df8bd580",
   "metadata": {},
   "outputs": [],
   "source": []
  }
 ],
 "metadata": {
  "kernelspec": {
   "display_name": "Python 3 (ipykernel)",
   "language": "python",
   "name": "python3"
  },
  "language_info": {
   "codemirror_mode": {
    "name": "ipython",
    "version": 3
   },
   "file_extension": ".py",
   "mimetype": "text/x-python",
   "name": "python",
   "nbconvert_exporter": "python",
   "pygments_lexer": "ipython3",
   "version": "3.9.7"
  }
 },
 "nbformat": 4,
 "nbformat_minor": 5
}
